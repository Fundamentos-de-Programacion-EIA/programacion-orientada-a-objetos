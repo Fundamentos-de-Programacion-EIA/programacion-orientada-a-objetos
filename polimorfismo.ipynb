{
 "cells": [
  {
   "cell_type": "code",
   "execution_count": 2,
   "metadata": {},
   "outputs": [],
   "source": [
    "class Animal:\n",
    "    def __init__(self, raza):\n",
    "        self.raza = raza\n",
    "\n",
    "    def hacer_sonido(self):\n",
    "        pass\n",
    "\n",
    "\n",
    "class Perro(Animal):\n",
    "    def __init__(self, raza):\n",
    "        Animal(raza)\n",
    "\n",
    "    def hacer_sonido(self):\n",
    "        print(\"Guau guau\")\n",
    "\n",
    "class Gato(Animal):\n",
    "    def __init__(self, raza):\n",
    "        Animal(raza)\n",
    "\n",
    "    def hacer_sonido(self):\n",
    "        print(\"Miau miau\")"
   ]
  },
  {
   "cell_type": "code",
   "execution_count": 4,
   "metadata": {},
   "outputs": [
    {
     "name": "stdout",
     "output_type": "stream",
     "text": [
      "Guau guau\n"
     ]
    }
   ],
   "source": [
    "firulais = Perro(\"Pastor Aleman\")\n",
    "\n",
    "firulais.hacer_sonido()"
   ]
  },
  {
   "cell_type": "code",
   "execution_count": 5,
   "metadata": {},
   "outputs": [
    {
     "name": "stdout",
     "output_type": "stream",
     "text": [
      "Miau miau\n"
     ]
    }
   ],
   "source": [
    "felix = Gato(\"Siames\")\n",
    "\n",
    "felix.hacer_sonido()"
   ]
  },
  {
   "cell_type": "code",
   "execution_count": 8,
   "metadata": {},
   "outputs": [
    {
     "name": "stdout",
     "output_type": "stream",
     "text": [
      "El salario toatl es :  89.0\n",
      "El salario toatl es :  44.5\n"
     ]
    }
   ],
   "source": [
    "class Persona:\n",
    "    def __init__(self, nombre, apellido, edad):\n",
    "        self.nombre=nombre\n",
    "        self.apellido=apellido\n",
    "        self.edad=edad\n",
    "\n",
    "    def imprimir_nombre_completo(self):\n",
    "        print(f\"{self.nombre} {self.apellido}\")\n",
    "\n",
    "    def registrar_materia(self, materia):\n",
    "        pass\n",
    "\n",
    "class Estudiante(Persona):\n",
    "    def __init__(self, nombre, apellido, edad, carrera):\n",
    "        Persona(nombre, apellido, edad)\n",
    "        self.carrera=carrera\n",
    "        self.notas=[]\n",
    "    \n",
    "    def agregar_nota(self, nota):\n",
    "        self.notas.append(nota)\n",
    "\n",
    "    def calcular_promedio(self):\n",
    "        return sum(self.notas)/len(self.notas)\n",
    "    \n",
    "    def registrar_materia(self, materia):\n",
    "        print(f\"El estudiante se registro satisfactoriamente en {materia}\")\n",
    "\n",
    "class Profesor(Persona):\n",
    "    def __init__(self, nombre, apellido, edad, salario):\n",
    "        Persona(nombre, apellido, edad)\n",
    "        self.salario=salario\n",
    "        self.materias=[]\n",
    "\n",
    "    def registrar_materia(self, materia):\n",
    "        self.materias.append(materia)\n",
    "        print(\"El salario toatl es : \", self.promedio_ingreso())\n",
    "\n",
    "    def promedio_ingreso(self):\n",
    "        return self.salario/len(self.materias)\n",
    "    \n",
    "prof = Profesor(\"David\", \"Nuñez\", 12, 89)\n",
    "\n",
    "prof.registrar_materia(\"matematicas\")\n",
    "prof.registrar_materia(\"biologia\")\n",
    "    \n",
    "\n"
   ]
  }
 ],
 "metadata": {
  "kernelspec": {
   "display_name": "Python 3",
   "language": "python",
   "name": "python3"
  },
  "language_info": {
   "codemirror_mode": {
    "name": "ipython",
    "version": 3
   },
   "file_extension": ".py",
   "mimetype": "text/x-python",
   "name": "python",
   "nbconvert_exporter": "python",
   "pygments_lexer": "ipython3",
   "version": "3.11.4"
  }
 },
 "nbformat": 4,
 "nbformat_minor": 2
}
