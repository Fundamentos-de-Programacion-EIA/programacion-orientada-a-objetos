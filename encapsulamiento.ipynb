{
 "cells": [
  {
   "cell_type": "code",
   "execution_count": 14,
   "metadata": {},
   "outputs": [],
   "source": [
    "class CuentaBancaria:\n",
    "    def __init__(self, balanceInicial):\n",
    "        self.__balance = balanceInicial\n",
    "        self.ingresos=[]\n",
    "        self.egresos=[]\n",
    "\n",
    "    def mostrar_balance(self):\n",
    "        print(f\"El balance actual es: {self.__balance}\")\n",
    "\n",
    "    def movimiento(self, monto):\n",
    "        if monto > 0:\n",
    "            self.ingresos.append(monto)\n",
    "        else:\n",
    "            self.egresos.append(monto)\n",
    "\n",
    "        self.__balance += monto"
   ]
  },
  {
   "cell_type": "code",
   "execution_count": 19,
   "metadata": {},
   "outputs": [
    {
     "name": "stdout",
     "output_type": "stream",
     "text": [
      "El balance actual es: 1100\n",
      "El balance actual es: 1050\n",
      "El balance actual es: 100\n"
     ]
    }
   ],
   "source": [
    "cuentaDaniel = CuentaBancaria(1000)\n",
    "\n",
    "cuentaDaniel.movimiento(100)\n",
    "\n",
    "cuentaDaniel.mostrar_balance()\n",
    "\n",
    "cuentaDaniel.movimiento(-50)\n",
    "\n",
    "cuentaDaniel.mostrar_balance()\n",
    "\n",
    "cuentaDaniel.movimiento(-950)\n",
    "\n",
    "cuentaDaniel.mostrar_balance()"
   ]
  },
  {
   "cell_type": "code",
   "execution_count": null,
   "metadata": {},
   "outputs": [],
   "source": []
  }
 ],
 "metadata": {
  "kernelspec": {
   "display_name": "Python 3",
   "language": "python",
   "name": "python3"
  },
  "language_info": {
   "codemirror_mode": {
    "name": "ipython",
    "version": 3
   },
   "file_extension": ".py",
   "mimetype": "text/x-python",
   "name": "python",
   "nbconvert_exporter": "python",
   "pygments_lexer": "ipython3",
   "version": "3.11.4"
  }
 },
 "nbformat": 4,
 "nbformat_minor": 2
}
