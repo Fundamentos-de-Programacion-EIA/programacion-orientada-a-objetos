{
 "cells": [
  {
   "cell_type": "code",
   "execution_count": 29,
   "metadata": {},
   "outputs": [],
   "source": [
    "class Persona:\n",
    "    def __init__(self, nombre, apellido, edad):\n",
    "        self.nombre=nombre\n",
    "        self.apellido=apellido\n",
    "        self.edad=edad\n",
    "\n",
    "    def imprimir_nombre_completo(self):\n",
    "        print(f\"{self.nombre} {self.apellido}\")\n",
    "\n",
    "class Estudiante(Persona):\n",
    "    def __init__(self, nombre, apellido, edad, carrera):\n",
    "        Persona(nombre, apellido, edad)\n",
    "        self.carrera=carrera\n",
    "        self.notas=[]\n",
    "    \n",
    "    def agregar_nota(self, nota):\n",
    "        self.notas.append(nota)\n",
    "\n",
    "    def calcular_promedio(self):\n",
    "        return sum(self.notas)/len(self.notas)\n",
    "\n",
    "class Profesor(Persona):\n",
    "    def __init__(self, nombre, apellido, edad, salario):\n",
    "        Persona(nombre, apellido, edad)\n",
    "        self.salario=salario\n",
    "        self.materias=[]\n",
    "\n",
    "    def agregar_materia(self, materia):\n",
    "        self.materias.append(materia)\n",
    "\n",
    "    def promedio_ingreso(self):\n",
    "        return self.salario/len(self.materias)\n",
    "    \n",
    "\n"
   ]
  },
  {
   "cell_type": "code",
   "execution_count": 30,
   "metadata": {},
   "outputs": [
    {
     "data": {
      "text/plain": [
       "500.0"
      ]
     },
     "execution_count": 30,
     "metadata": {},
     "output_type": "execute_result"
    }
   ],
   "source": [
    "miguel = Profesor(\"Miguel\", \"Quintero\", 40, 1000)\n",
    "miguel.agregar_materia(\"Programación\")\n",
    "miguel.agregar_materia(\"Cálculo\")\n",
    "miguel.promedio_ingreso()"
   ]
  },
  {
   "cell_type": "code",
   "execution_count": 22,
   "metadata": {},
   "outputs": [
    {
     "data": {
      "text/plain": [
       "2.9333333333333336"
      ]
     },
     "execution_count": 22,
     "metadata": {},
     "output_type": "execute_result"
    }
   ],
   "source": [
    "daniel = Estudiante(\"Daniel\", \"Garcia\", 25, \"Ing mecatrónica\")\n",
    "\n",
    "daniel.agregar_nota(4.5)\n",
    "daniel.agregar_nota(2.5)\n",
    "daniel.agregar_nota(1.8)\n",
    "\n",
    "daniel.notas\n",
    "\n",
    "daniel.calcular_promedio()\n"
   ]
  }
 ],
 "metadata": {
  "kernelspec": {
   "display_name": "Python 3",
   "language": "python",
   "name": "python3"
  },
  "language_info": {
   "codemirror_mode": {
    "name": "ipython",
    "version": 3
   },
   "file_extension": ".py",
   "mimetype": "text/x-python",
   "name": "python",
   "nbconvert_exporter": "python",
   "pygments_lexer": "ipython3",
   "version": "3.11.4"
  }
 },
 "nbformat": 4,
 "nbformat_minor": 2
}
